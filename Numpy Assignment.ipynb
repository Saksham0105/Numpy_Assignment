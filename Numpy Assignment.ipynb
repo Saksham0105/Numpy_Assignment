{
 "cells": [
  {
   "cell_type": "markdown",
   "id": "e19278f9-aa3e-403b-a398-2549616026c8",
   "metadata": {},
   "source": [
    "## Consider the below code to answer further questions:\n",
    "\n",
    "import numpy as np\n",
    "list_ = [ ‘1’ , ’2’ , ‘3’ , ‘4’ , ‘5’ ]\n",
    "array_list = np.array(object = list_)"
   ]
  },
  {
   "cell_type": "markdown",
   "id": "b094955c-034f-4715-b9e7-119b7a246bf4",
   "metadata": {},
   "source": [
    "## Q1. Is there any difference in the data type of variables list_ and array_list? If there is then write a code to print the data types of both the variables."
   ]
  },
  {
   "cell_type": "markdown",
   "id": "2c19f52d-6a33-48ee-ac8c-75402cb1561e",
   "metadata": {},
   "source": [
    "Ans :- "
   ]
  },
  {
   "cell_type": "code",
   "execution_count": 1,
   "id": "e8acb909-51ee-4931-9c3e-180b1e35da7b",
   "metadata": {},
   "outputs": [],
   "source": [
    "import numpy as np"
   ]
  },
  {
   "cell_type": "code",
   "execution_count": 2,
   "id": "3fcf54ff-5947-4bff-adec-51a79511093d",
   "metadata": {},
   "outputs": [],
   "source": [
    "list_ = ['1', '2', '3', '4', '5']"
   ]
  },
  {
   "cell_type": "code",
   "execution_count": 3,
   "id": "da6e7a81-54f4-4810-817b-2a1d01dd94b3",
   "metadata": {},
   "outputs": [],
   "source": [
    "array_list = np.array(object=list_)"
   ]
  },
  {
   "cell_type": "code",
   "execution_count": 4,
   "id": "b994c22d-b28a-48fa-b930-2bc637e910fd",
   "metadata": {},
   "outputs": [
    {
     "name": "stdout",
     "output_type": "stream",
     "text": [
      "Data type of list_: <class 'list'>\n"
     ]
    }
   ],
   "source": [
    "print(\"Data type of list_:\", type(list_))"
   ]
  },
  {
   "cell_type": "code",
   "execution_count": 5,
   "id": "c833b4e2-be6a-4f94-a49f-b5b0e383b927",
   "metadata": {},
   "outputs": [
    {
     "name": "stdout",
     "output_type": "stream",
     "text": [
      "Data type of array_list: <class 'numpy.ndarray'>\n"
     ]
    }
   ],
   "source": [
    "print(\"Data type of array_list:\", type(array_list))"
   ]
  },
  {
   "cell_type": "markdown",
   "id": "8f851e69-ad28-4406-bc58-536d4f9d9068",
   "metadata": {},
   "source": [
    "## Q2. Write a code to print the data type of each and every element of both the variables list_ and arra_list."
   ]
  },
  {
   "cell_type": "markdown",
   "id": "6a192e9c-19ff-4daf-a5ce-e4f7cd20dccd",
   "metadata": {},
   "source": [
    "Ans :- "
   ]
  },
  {
   "cell_type": "code",
   "execution_count": 6,
   "id": "938ab659-ce58-49ef-9c1e-dbd9cdfb49d9",
   "metadata": {},
   "outputs": [],
   "source": [
    "import numpy as np"
   ]
  },
  {
   "cell_type": "code",
   "execution_count": 7,
   "id": "96eee76c-92bf-43e0-ac91-da8bebfa284e",
   "metadata": {},
   "outputs": [],
   "source": [
    "list_ = ['1', '2', '3', '4', '5']"
   ]
  },
  {
   "cell_type": "code",
   "execution_count": 8,
   "id": "673e3d99-48a4-4697-b7b6-9afc35458f1c",
   "metadata": {},
   "outputs": [],
   "source": [
    "array_list = np.array(object=list_)"
   ]
  },
  {
   "cell_type": "code",
   "execution_count": 10,
   "id": "aa7fc14c-85e5-4d5f-9748-12800c43d8e9",
   "metadata": {},
   "outputs": [
    {
     "name": "stdout",
     "output_type": "stream",
     "text": [
      "Data types of elements in list_:\n",
      "<class 'str'>\n",
      "<class 'str'>\n",
      "<class 'str'>\n",
      "<class 'str'>\n",
      "<class 'str'>\n"
     ]
    }
   ],
   "source": [
    "print(\"Data types of elements in list_:\")\n",
    "for item in list_:\n",
    "    print(type(item))"
   ]
  },
  {
   "cell_type": "code",
   "execution_count": 11,
   "id": "ed1a77ba-2927-4ecb-b372-d282775dbe75",
   "metadata": {},
   "outputs": [
    {
     "name": "stdout",
     "output_type": "stream",
     "text": [
      "Data types of elements in array_list:\n",
      "<class 'numpy.str_'>\n",
      "<class 'numpy.str_'>\n",
      "<class 'numpy.str_'>\n",
      "<class 'numpy.str_'>\n",
      "<class 'numpy.str_'>\n"
     ]
    }
   ],
   "source": [
    "print(\"Data types of elements in array_list:\")\n",
    "for item in array_list:\n",
    "    print(type(item))"
   ]
  },
  {
   "cell_type": "markdown",
   "id": "9776424e-adbc-498a-867f-69574cd388ca",
   "metadata": {},
   "source": [
    "## Q3. Considering the following changes in the variable, array_list:\n",
    "# array_list = np.array(object = list_, dtype = int)\n",
    "\n",
    "\n",
    "* Will there be any difference in the data type of the elements present in both the variables, list_ and arra_list? If so then print the data types of each and every element present in both the variables, list_ and arra_list."
   ]
  },
  {
   "cell_type": "code",
   "execution_count": 12,
   "id": "5a79176f-c940-4fa8-b264-b1ab0c4ac7d4",
   "metadata": {},
   "outputs": [],
   "source": [
    "import numpy as np"
   ]
  },
  {
   "cell_type": "code",
   "execution_count": 13,
   "id": "e8af4153-401e-47b6-aca1-469c51cfcd74",
   "metadata": {},
   "outputs": [],
   "source": [
    "list_ = ['1', '2', '3', '4', '5']\n",
    "array_list = np.array(object=list_, dtype=int)"
   ]
  },
  {
   "cell_type": "code",
   "execution_count": 14,
   "id": "607725f1-d060-44af-b029-2c99275939ef",
   "metadata": {},
   "outputs": [
    {
     "name": "stdout",
     "output_type": "stream",
     "text": [
      "Data types of elements in list_:\n",
      "<class 'str'>\n",
      "<class 'str'>\n",
      "<class 'str'>\n",
      "<class 'str'>\n",
      "<class 'str'>\n"
     ]
    }
   ],
   "source": [
    "print(\"Data types of elements in list_:\")\n",
    "for item in list_:\n",
    "    print(type(item))"
   ]
  },
  {
   "cell_type": "code",
   "execution_count": 15,
   "id": "f6046c30-dd5e-4c11-9a84-15c0d92f59cd",
   "metadata": {},
   "outputs": [
    {
     "name": "stdout",
     "output_type": "stream",
     "text": [
      "\n",
      "Data types of elements in array_list:\n",
      "<class 'numpy.int64'>\n",
      "<class 'numpy.int64'>\n",
      "<class 'numpy.int64'>\n",
      "<class 'numpy.int64'>\n",
      "<class 'numpy.int64'>\n"
     ]
    }
   ],
   "source": [
    "print(\"\\nData types of elements in array_list:\")\n",
    "for item in array_list:\n",
    "    print(type(item))"
   ]
  },
  {
   "cell_type": "markdown",
   "id": "3a4067cf-6f91-4010-88f4-127f9151f28d",
   "metadata": {},
   "source": [
    "## Consider the below code to answer further questions:\n",
    "import numpy as np\n",
    "num_list = [ [ 1 , 2 , 3 ] , [ 4 , 5 , 6 ] ]\n",
    "num_array = np.array(object = num_list)"
   ]
  },
  {
   "cell_type": "markdown",
   "id": "4f1e27cb-9aa4-4e8c-b806-ef66004b490e",
   "metadata": {},
   "source": [
    "## Q4. Write a code to find the following characteristics of variable, num_array:\n",
    "* (i) shape\n",
    "* (ii) size"
   ]
  },
  {
   "cell_type": "markdown",
   "id": "840f5430-63af-4372-ad2b-bdb2936ca990",
   "metadata": {},
   "source": [
    "Ans :- "
   ]
  },
  {
   "cell_type": "code",
   "execution_count": 18,
   "id": "fdbabc4e-d163-4e7d-887e-e151cab9c3f6",
   "metadata": {},
   "outputs": [],
   "source": [
    "import numpy as np"
   ]
  },
  {
   "cell_type": "code",
   "execution_count": 19,
   "id": "ff9c28f4-8222-4d21-b2ec-0ce28778c91b",
   "metadata": {},
   "outputs": [],
   "source": [
    "num_list = [[1, 2, 3], [4, 5, 6]]\n",
    "num_array = np.array(object=num_list)"
   ]
  },
  {
   "cell_type": "code",
   "execution_count": 20,
   "id": "06433513-6efb-43f2-ae63-96cc54c3a687",
   "metadata": {},
   "outputs": [],
   "source": [
    "# (i) Shape of the array\n",
    "shape = num_array.shape"
   ]
  },
  {
   "cell_type": "code",
   "execution_count": 21,
   "id": "1e20ee8c-8a35-47d6-9f51-bd1a3b2fd339",
   "metadata": {},
   "outputs": [],
   "source": [
    "# (ii) Size of the array\n",
    "size = num_array.size"
   ]
  },
  {
   "cell_type": "code",
   "execution_count": 23,
   "id": "0ccdc9cf-d600-42bb-b4f6-788681670861",
   "metadata": {},
   "outputs": [
    {
     "name": "stdout",
     "output_type": "stream",
     "text": [
      "Shape of num_array: (2, 3)\n",
      "Size of num_array: 6\n"
     ]
    }
   ],
   "source": [
    "print(\"Shape of num_array:\", shape)\n",
    "print(\"Size of num_array:\", size)"
   ]
  },
  {
   "cell_type": "markdown",
   "id": "1368ac11-b2f0-4bb2-99dd-15f9b30a8ba2",
   "metadata": {},
   "source": [
    "## Q5. Write a code to create numpy array of 3*3 matrix containing zeros only, using a numpy array creation function.\n",
    "[Hint: The size of the array will be 9 and the shape will be (3,3).]"
   ]
  },
  {
   "cell_type": "markdown",
   "id": "e15e2b6b-6b9d-4e64-b42a-73eee59f87dd",
   "metadata": {},
   "source": [
    "Ans:-"
   ]
  },
  {
   "cell_type": "code",
   "execution_count": 26,
   "id": "a0dcf14e-44a6-4969-957b-9bb50a06c247",
   "metadata": {},
   "outputs": [],
   "source": [
    "import numpy as np"
   ]
  },
  {
   "cell_type": "code",
   "execution_count": 27,
   "id": "03f598fa-f104-42b2-baff-6f6d4024ed72",
   "metadata": {},
   "outputs": [],
   "source": [
    "# Creating a 3x3 array with zeros\n",
    "zeros_array = np.zeros((3, 3))"
   ]
  },
  {
   "cell_type": "code",
   "execution_count": 28,
   "id": "120d3bd3-b2bf-443c-a39b-7cc3924389bf",
   "metadata": {},
   "outputs": [
    {
     "name": "stdout",
     "output_type": "stream",
     "text": [
      "Array with zeros:\n",
      "[[0. 0. 0.]\n",
      " [0. 0. 0.]\n",
      " [0. 0. 0.]]\n"
     ]
    }
   ],
   "source": [
    "print(\"Array with zeros:\")\n",
    "print(zeros_array)"
   ]
  },
  {
   "cell_type": "markdown",
   "id": "89dc78d0-7459-41b1-b861-c9c1c416783f",
   "metadata": {},
   "source": [
    "## Q6. Create an identity matrix of shape (5,5) using numpy functions?\n",
    "[Hint: An identity matrix is a matrix containing 1 diagonally and other elements will be 0.]"
   ]
  },
  {
   "cell_type": "markdown",
   "id": "d2993a77-a0a5-4281-8963-4090f9587b53",
   "metadata": {},
   "source": [
    "Ans :- "
   ]
  },
  {
   "cell_type": "code",
   "execution_count": 29,
   "id": "9bbdd2ac-d9dd-4093-932a-f73a834c9f33",
   "metadata": {},
   "outputs": [],
   "source": [
    "import numpy as np"
   ]
  },
  {
   "cell_type": "code",
   "execution_count": 32,
   "id": "54fa1822-bc73-43d9-8ce5-414133bba80b",
   "metadata": {},
   "outputs": [],
   "source": [
    "# Creating a 5x5 identity matrix\n",
    "identity_matrix = np.eye(5)"
   ]
  },
  {
   "cell_type": "code",
   "execution_count": 33,
   "id": "98534aca-d6dd-4d3d-877b-3343698e1c73",
   "metadata": {},
   "outputs": [
    {
     "name": "stdout",
     "output_type": "stream",
     "text": [
      "Identity matrix:\n",
      "[[1. 0. 0. 0. 0.]\n",
      " [0. 1. 0. 0. 0.]\n",
      " [0. 0. 1. 0. 0.]\n",
      " [0. 0. 0. 1. 0.]\n",
      " [0. 0. 0. 0. 1.]]\n"
     ]
    }
   ],
   "source": [
    "print(\"Identity matrix:\")\n",
    "print(identity_matrix)"
   ]
  }
 ],
 "metadata": {
  "kernelspec": {
   "display_name": "Python 3 (ipykernel)",
   "language": "python",
   "name": "python3"
  },
  "language_info": {
   "codemirror_mode": {
    "name": "ipython",
    "version": 3
   },
   "file_extension": ".py",
   "mimetype": "text/x-python",
   "name": "python",
   "nbconvert_exporter": "python",
   "pygments_lexer": "ipython3",
   "version": "3.10.8"
  }
 },
 "nbformat": 4,
 "nbformat_minor": 5
}
